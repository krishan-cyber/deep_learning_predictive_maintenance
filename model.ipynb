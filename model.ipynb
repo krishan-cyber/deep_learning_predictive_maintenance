{
  "cells": [
    {
      "cell_type": "code",
      "execution_count": 12,
      "id": "43d5512e-7170-4771-8cb8-b742426a5ac9",
      "metadata": {
        "id": "43d5512e-7170-4771-8cb8-b742426a5ac9"
      },
      "outputs": [],
      "source": [
        "import numpy as np\n",
        "import pandas as pd\n",
        "import tensorflow as tf\n",
        "from tensorflow.keras.models import Sequential\n",
        "from tensorflow.keras.layers import Dense, Dropout\n",
        "from sklearn.preprocessing import StandardScaler"
      ]
    },
    {
      "cell_type": "code",
      "execution_count": 13,
      "id": "758aef60-7e40-43f7-9e21-2d74c9d2a081",
      "metadata": {
        "id": "758aef60-7e40-43f7-9e21-2d74c9d2a081"
      },
      "outputs": [],
      "source": [
        "x_train=pd.read_csv('x_data.csv')\n",
        "x_train = x_train.drop(['Unnamed: 0'], axis=1)"
      ]
    },
    {
      "cell_type": "code",
      "execution_count": 14,
      "id": "88176bf9-edea-4398-8bd3-af9bc349acb7",
      "metadata": {
        "id": "88176bf9-edea-4398-8bd3-af9bc349acb7"
      },
      "outputs": [],
      "source": [
        "x_test=pd.read_csv('x_test.csv')\n",
        "x_test=x_test.drop(['Unnamed: 0'], axis=1)\n",
        "y_train=pd.read_csv('y_data.csv')\n",
        "y_test=pd.read_csv('y_test.csv')\n",
        "y_test=y_test.drop(['Unnamed: 0'], axis=1)\n",
        "y_train=y_train.drop(['Unnamed: 0'], axis=1)"
      ]
    },
    {
      "cell_type": "code",
      "execution_count": 24,
      "id": "d1b07287-4746-43d4-86d4-f9881ed22776",
      "metadata": {
        "colab": {
          "base_uri": "https://localhost:8080/"
        },
        "id": "d1b07287-4746-43d4-86d4-f9881ed22776",
        "outputId": "7c630e60-be93-4ea7-b253-891cacf89053"
      },
      "outputs": [
        {
          "output_type": "stream",
          "name": "stdout",
          "text": [
            "Model: \"sequential_3\"\n",
            "_________________________________________________________________\n",
            " Layer (type)                Output Shape              Param #   \n",
            "=================================================================\n",
            " dense_12 (Dense)            (None, 64)                1408      \n",
            "                                                                 \n",
            " dropout_3 (Dropout)         (None, 64)                0         \n",
            "                                                                 \n",
            " dense_13 (Dense)            (None, 32)                2080      \n",
            "                                                                 \n",
            " dense_14 (Dense)            (None, 16)                528       \n",
            "                                                                 \n",
            " dense_15 (Dense)            (None, 1)                 17        \n",
            "                                                                 \n",
            "=================================================================\n",
            "Total params: 4033 (15.75 KB)\n",
            "Trainable params: 4033 (15.75 KB)\n",
            "Non-trainable params: 0 (0.00 Byte)\n",
            "_________________________________________________________________\n"
          ]
        }
      ],
      "source": [
        "model = Sequential()\n",
        "model.add(Dense(64, activation='relu', input_shape=(x_train.shape[1],)))\n",
        "model.add(Dropout(0.2))\n",
        "model.add(Dense(32, activation='relu'))\n",
        "model.add(Dense(16, activation='relu'))\n",
        "model.add(Dense(1, activation='sigmoid'))\n",
        "model.compile(optimizer='adam', loss='mse', metrics=['accuracy'])\n",
        "model.summary()"
      ]
    },
    {
      "cell_type": "code",
      "execution_count": 22,
      "id": "cfb7f285-b566-4bed-b3ea-73f932873757",
      "metadata": {
        "id": "cfb7f285-b566-4bed-b3ea-73f932873757"
      },
      "outputs": [],
      "source": [
        "scaler = StandardScaler()\n",
        "x_train = scaler.fit_transform(x_train)\n",
        "x_test = scaler.transform(x_test)"
      ]
    },
    {
      "cell_type": "code",
      "source": [
        "history = model.fit(x_train, y_train, epochs=50, batch_size=32, validation_data=(x_test, y_test))\n",
        "loss, accuracy = model.evaluate(x_test, y_test)\n",
        "print(f'Test Loss: {loss:.4f}')\n",
        "print(f'Test Accuracy: {accuracy:.4f}')"
      ],
      "metadata": {
        "colab": {
          "base_uri": "https://localhost:8080/"
        },
        "id": "kgFzNGLdOslE",
        "outputId": "33fbbc16-319f-4570-ca2e-14c5250b25bd"
      },
      "id": "kgFzNGLdOslE",
      "execution_count": 25,
      "outputs": [
        {
          "output_type": "stream",
          "name": "stdout",
          "text": [
            "Epoch 1/50\n",
            "5283/5283 [==============================] - 19s 3ms/step - loss: 0.0870 - accuracy: 0.9712 - val_loss: 0.0720 - val_accuracy: 0.9774\n",
            "Epoch 2/50\n",
            "5283/5283 [==============================] - 23s 4ms/step - loss: 0.0776 - accuracy: 0.9762 - val_loss: 0.0707 - val_accuracy: 0.9794\n",
            "Epoch 3/50\n",
            "5283/5283 [==============================] - 17s 3ms/step - loss: 0.0760 - accuracy: 0.9774 - val_loss: 0.0698 - val_accuracy: 0.9800\n",
            "Epoch 4/50\n",
            "5283/5283 [==============================] - 17s 3ms/step - loss: 0.0755 - accuracy: 0.9781 - val_loss: 0.0699 - val_accuracy: 0.9787\n",
            "Epoch 5/50\n",
            "5283/5283 [==============================] - 17s 3ms/step - loss: 0.0752 - accuracy: 0.9784 - val_loss: 0.0706 - val_accuracy: 0.9775\n",
            "Epoch 6/50\n",
            "5283/5283 [==============================] - 18s 3ms/step - loss: 0.0747 - accuracy: 0.9788 - val_loss: 0.0702 - val_accuracy: 0.9784\n",
            "Epoch 7/50\n",
            "5283/5283 [==============================] - 18s 3ms/step - loss: 0.0743 - accuracy: 0.9788 - val_loss: 0.0694 - val_accuracy: 0.9792\n",
            "Epoch 8/50\n",
            "5283/5283 [==============================] - 22s 4ms/step - loss: 0.0742 - accuracy: 0.9793 - val_loss: 0.0697 - val_accuracy: 0.9799\n",
            "Epoch 9/50\n",
            "5283/5283 [==============================] - 17s 3ms/step - loss: 0.0741 - accuracy: 0.9794 - val_loss: 0.0694 - val_accuracy: 0.9802\n",
            "Epoch 10/50\n",
            "5283/5283 [==============================] - 18s 3ms/step - loss: 0.0739 - accuracy: 0.9795 - val_loss: 0.0699 - val_accuracy: 0.9796\n",
            "Epoch 11/50\n",
            "5283/5283 [==============================] - 19s 4ms/step - loss: 0.0737 - accuracy: 0.9793 - val_loss: 0.0694 - val_accuracy: 0.9797\n",
            "Epoch 12/50\n",
            "5283/5283 [==============================] - 22s 4ms/step - loss: 0.0739 - accuracy: 0.9795 - val_loss: 0.0696 - val_accuracy: 0.9794\n",
            "Epoch 13/50\n",
            "5283/5283 [==============================] - 17s 3ms/step - loss: 0.0738 - accuracy: 0.9795 - val_loss: 0.0700 - val_accuracy: 0.9792\n",
            "Epoch 14/50\n",
            "5283/5283 [==============================] - 20s 4ms/step - loss: 0.0738 - accuracy: 0.9799 - val_loss: 0.0692 - val_accuracy: 0.9804\n",
            "Epoch 15/50\n",
            "5283/5283 [==============================] - 22s 4ms/step - loss: 0.0736 - accuracy: 0.9799 - val_loss: 0.0696 - val_accuracy: 0.9802\n",
            "Epoch 16/50\n",
            "5283/5283 [==============================] - 17s 3ms/step - loss: 0.0736 - accuracy: 0.9799 - val_loss: 0.0695 - val_accuracy: 0.9794\n",
            "Epoch 17/50\n",
            "5283/5283 [==============================] - 17s 3ms/step - loss: 0.0733 - accuracy: 0.9802 - val_loss: 0.0697 - val_accuracy: 0.9797\n",
            "Epoch 18/50\n",
            "5283/5283 [==============================] - 19s 4ms/step - loss: 0.0735 - accuracy: 0.9797 - val_loss: 0.0696 - val_accuracy: 0.9789\n",
            "Epoch 19/50\n",
            "5283/5283 [==============================] - 23s 4ms/step - loss: 0.0735 - accuracy: 0.9799 - val_loss: 0.0698 - val_accuracy: 0.9801\n",
            "Epoch 20/50\n",
            "5283/5283 [==============================] - 17s 3ms/step - loss: 0.0736 - accuracy: 0.9802 - val_loss: 0.0690 - val_accuracy: 0.9798\n",
            "Epoch 21/50\n",
            "5283/5283 [==============================] - 17s 3ms/step - loss: 0.0732 - accuracy: 0.9801 - val_loss: 0.0693 - val_accuracy: 0.9795\n",
            "Epoch 22/50\n",
            "5283/5283 [==============================] - 18s 3ms/step - loss: 0.0733 - accuracy: 0.9801 - val_loss: 0.0697 - val_accuracy: 0.9789\n",
            "Epoch 23/50\n",
            "5283/5283 [==============================] - 18s 3ms/step - loss: 0.0730 - accuracy: 0.9803 - val_loss: 0.0695 - val_accuracy: 0.9799\n",
            "Epoch 24/50\n",
            "5283/5283 [==============================] - 21s 4ms/step - loss: 0.0733 - accuracy: 0.9800 - val_loss: 0.0693 - val_accuracy: 0.9804\n",
            "Epoch 25/50\n",
            "5283/5283 [==============================] - 17s 3ms/step - loss: 0.0734 - accuracy: 0.9801 - val_loss: 0.0697 - val_accuracy: 0.9803\n",
            "Epoch 26/50\n",
            "5283/5283 [==============================] - 19s 4ms/step - loss: 0.0732 - accuracy: 0.9803 - val_loss: 0.0698 - val_accuracy: 0.9807\n",
            "Epoch 27/50\n",
            "5283/5283 [==============================] - 18s 3ms/step - loss: 0.0731 - accuracy: 0.9804 - val_loss: 0.0697 - val_accuracy: 0.9799\n",
            "Epoch 28/50\n",
            "5283/5283 [==============================] - 21s 4ms/step - loss: 0.0732 - accuracy: 0.9805 - val_loss: 0.0698 - val_accuracy: 0.9805\n",
            "Epoch 29/50\n",
            "5283/5283 [==============================] - 17s 3ms/step - loss: 0.0729 - accuracy: 0.9805 - val_loss: 0.0694 - val_accuracy: 0.9797\n",
            "Epoch 30/50\n",
            "5283/5283 [==============================] - 17s 3ms/step - loss: 0.0730 - accuracy: 0.9802 - val_loss: 0.0700 - val_accuracy: 0.9790\n",
            "Epoch 31/50\n",
            "5283/5283 [==============================] - 17s 3ms/step - loss: 0.0732 - accuracy: 0.9805 - val_loss: 0.0693 - val_accuracy: 0.9801\n",
            "Epoch 32/50\n",
            "5283/5283 [==============================] - 20s 4ms/step - loss: 0.0729 - accuracy: 0.9804 - val_loss: 0.0695 - val_accuracy: 0.9794\n",
            "Epoch 33/50\n",
            "5283/5283 [==============================] - 18s 3ms/step - loss: 0.0730 - accuracy: 0.9803 - val_loss: 0.0698 - val_accuracy: 0.9797\n",
            "Epoch 34/50\n",
            "5283/5283 [==============================] - 22s 4ms/step - loss: 0.0732 - accuracy: 0.9802 - val_loss: 0.0692 - val_accuracy: 0.9799\n",
            "Epoch 35/50\n",
            "5283/5283 [==============================] - 18s 3ms/step - loss: 0.0728 - accuracy: 0.9804 - val_loss: 0.0698 - val_accuracy: 0.9789\n",
            "Epoch 36/50\n",
            "5283/5283 [==============================] - 19s 4ms/step - loss: 0.0730 - accuracy: 0.9807 - val_loss: 0.0697 - val_accuracy: 0.9802\n",
            "Epoch 37/50\n",
            "5283/5283 [==============================] - 18s 3ms/step - loss: 0.0730 - accuracy: 0.9802 - val_loss: 0.0696 - val_accuracy: 0.9796\n",
            "Epoch 38/50\n",
            "5283/5283 [==============================] - 20s 4ms/step - loss: 0.0730 - accuracy: 0.9804 - val_loss: 0.0699 - val_accuracy: 0.9798\n",
            "Epoch 39/50\n",
            "5283/5283 [==============================] - 18s 3ms/step - loss: 0.0732 - accuracy: 0.9804 - val_loss: 0.0695 - val_accuracy: 0.9802\n",
            "Epoch 40/50\n",
            "5283/5283 [==============================] - 18s 3ms/step - loss: 0.0729 - accuracy: 0.9805 - val_loss: 0.0694 - val_accuracy: 0.9804\n",
            "Epoch 41/50\n",
            "5283/5283 [==============================] - 18s 3ms/step - loss: 0.0728 - accuracy: 0.9806 - val_loss: 0.0704 - val_accuracy: 0.9788\n",
            "Epoch 42/50\n",
            "5283/5283 [==============================] - 18s 3ms/step - loss: 0.0729 - accuracy: 0.9804 - val_loss: 0.0701 - val_accuracy: 0.9801\n",
            "Epoch 43/50\n",
            "5283/5283 [==============================] - 22s 4ms/step - loss: 0.0725 - accuracy: 0.9806 - val_loss: 0.0703 - val_accuracy: 0.9797\n",
            "Epoch 44/50\n",
            "5283/5283 [==============================] - 27s 5ms/step - loss: 0.0728 - accuracy: 0.9808 - val_loss: 0.0698 - val_accuracy: 0.9806\n",
            "Epoch 45/50\n",
            "5283/5283 [==============================] - 18s 3ms/step - loss: 0.0731 - accuracy: 0.9806 - val_loss: 0.0699 - val_accuracy: 0.9793\n",
            "Epoch 46/50\n",
            "5283/5283 [==============================] - 22s 4ms/step - loss: 0.0729 - accuracy: 0.9806 - val_loss: 0.0701 - val_accuracy: 0.9801\n",
            "Epoch 47/50\n",
            "5283/5283 [==============================] - 18s 3ms/step - loss: 0.0729 - accuracy: 0.9804 - val_loss: 0.0697 - val_accuracy: 0.9803\n",
            "Epoch 48/50\n",
            "5283/5283 [==============================] - 23s 4ms/step - loss: 0.0729 - accuracy: 0.9804 - val_loss: 0.0696 - val_accuracy: 0.9805\n",
            "Epoch 49/50\n",
            "5283/5283 [==============================] - 25s 5ms/step - loss: 0.0727 - accuracy: 0.9805 - val_loss: 0.0700 - val_accuracy: 0.9803\n",
            "Epoch 50/50\n",
            "5283/5283 [==============================] - 22s 4ms/step - loss: 0.0730 - accuracy: 0.9807 - val_loss: 0.0702 - val_accuracy: 0.9798\n",
            "3842/3842 [==============================] - 8s 2ms/step - loss: 0.0702 - accuracy: 0.9798\n",
            "Test Loss: 0.0702\n",
            "Test Accuracy: 0.9798\n"
          ]
        }
      ]
    },
    {
      "cell_type": "code",
      "source": [
        "model.save('model.h5')"
      ],
      "metadata": {
        "colab": {
          "base_uri": "https://localhost:8080/"
        },
        "id": "eUroGP5YO099",
        "outputId": "9e961a8a-4baa-4cfa-a1be-f6e9c99a7722"
      },
      "id": "eUroGP5YO099",
      "execution_count": 26,
      "outputs": [
        {
          "output_type": "stream",
          "name": "stderr",
          "text": [
            "/usr/local/lib/python3.10/dist-packages/keras/src/engine/training.py:3103: UserWarning: You are saving your model as an HDF5 file via `model.save()`. This file format is considered legacy. We recommend using instead the native Keras format, e.g. `model.save('my_model.keras')`.\n",
            "  saving_api.save_model(\n"
          ]
        }
      ]
    }
  ],
  "metadata": {
    "kernelspec": {
      "display_name": "Python 3 (ipykernel)",
      "language": "python",
      "name": "python3"
    },
    "language_info": {
      "codemirror_mode": {
        "name": "ipython",
        "version": 3
      },
      "file_extension": ".py",
      "mimetype": "text/x-python",
      "name": "python",
      "nbconvert_exporter": "python",
      "pygments_lexer": "ipython3",
      "version": "3.11.0"
    },
    "colab": {
      "provenance": []
    }
  },
  "nbformat": 4,
  "nbformat_minor": 5
}